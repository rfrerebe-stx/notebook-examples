{
 "cells": [
  {
   "cell_type": "markdown",
   "metadata": {},
   "source": [
    "# Export raw tick data using dedicated service - Python\n",
    "\n",
    "### Overview\n",
    "This sample demonstrates how to request from a dedicated raw data service **on-demand** tick by tick data `for a given instrument or a given watchlist`. \n",
    "\n",
    "### Inputs/outputs\n",
    "Tick data extraction sample requires instrument's identifier, date time intervals as per inputs and exports tick by tick data file. \n",
    "\n",
    "### Services used\n",
    "This sample uses *gRPC requests* in order to retrieve tick by tick dataset from the hosted service. The queried endpoint in this script are:\n",
    "* *TickRawService*: to directly retrieve raw dataset from the server.\n",
    "\n",
    "### Packages required\n",
    "1. Systemathics packages:\n",
    "    * *Systemathics.Apis.Type.Shared.V1*\n",
    "    * *Systemathics.Apis.Services.Tick.V1*\n",
    "2. Open source packages\n",
    "    * *Google.Protobuf.WellKnownTypes*\n",
    "    * *Google.Type*\n",
    "    * *Grpc.Net.Client*\n",
    "    * *Grpc.Core*\n",
    "    \n",
    "### Modules required\n",
    "1. Systemathics:\n",
    "    * *systemathics.apis.services.tick.v1*\n",
    "    * *systemathics.apis.type.shared.v1*\n",
    "    * *google.type*\n",
    "2. Open source:\n",
    "    * *googleapis-common-protos*\n",
    "    * *protobuf*\n",
    "    * *grpcio*\n",
    "    * *pandas*\n",
    "    \n",
    "***"
   ]
  },
  {
   "cell_type": "markdown",
   "metadata": {},
   "source": [
    "# Run tick by tick dataset extraction sample"
   ]
  },
  {
   "cell_type": "markdown",
   "metadata": {},
   "source": [
    "### Step 1: Install packages"
   ]
  },
  {
   "cell_type": "code",
   "execution_count": null,
   "metadata": {},
   "outputs": [],
   "source": [
    "pip install googleapis-common-protos protobuf grpcio pandas systemathics.apis"
   ]
  },
  {
   "cell_type": "code",
   "execution_count": null,
   "metadata": {},
   "outputs": [],
   "source": [
    "import os\n",
    "import grpc\n",
    "import pandas as pd\n",
    "from datetime import datetime\n",
    "import google.type.date_pb2 as date\n",
    "import google.type.timeofday_pb2 as timeofday\n",
    "import google.type.dayofweek_pb2 as dayofweek\n",
    "import google.protobuf.duration_pb2 as duration\n",
    "import systemathics.apis.type.shared.v1.level_pb2 as level\n",
    "import systemathics.apis.type.shared.v1.identifier_pb2 as identifier\n",
    "import systemathics.apis.type.shared.v1.constraints_pb2 as constraints\n",
    "import systemathics.apis.type.shared.v1.date_interval_pb2 as dateinterval\n",
    "import systemathics.apis.type.shared.v1.time_interval_pb2 as timeinterval\n",
    "import systemathics.apis.services.tick.v1.tick_raw_pb2 as tick_raw\n",
    "import systemathics.apis.services.tick.v1.tick_raw_pb2_grpc as tick_raw_service"
   ]
  },
  {
   "cell_type": "markdown",
   "metadata": {},
   "source": [
    "### Step 2: Retrieve authentication token\n",
    "The following code snippet sends authentication request and print token to console output in order to process the upcomming *gRPC queries*."
   ]
  },
  {
   "cell_type": "code",
   "execution_count": null,
   "metadata": {},
   "outputs": [],
   "source": [
    "token = f\"Bearer {os.environ['AUTH0_TOKEN']}\"\n",
    "display(token)"
   ]
  },
  {
   "cell_type": "markdown",
   "metadata": {},
   "source": [
    "### Step 3: Retrieve data\n",
    "To request *tick raw* service, we need to specify:\n",
    "* Instrument identifier\n",
    "* Time period selection: select start and end dates\n",
    "* Tick raw request parameters"
   ]
  },
  {
   "cell_type": "markdown",
   "metadata": {},
   "source": [
    "#### 3.1 Instrument selection"
   ]
  },
  {
   "cell_type": "code",
   "execution_count": null,
   "metadata": {},
   "outputs": [],
   "source": [
    "# set instrument identifier: exchange + ticker\n",
    "ticker = 'AAPL'\n",
    "exchange = 'BATS'"
   ]
  },
  {
   "cell_type": "markdown",
   "metadata": {},
   "source": [
    "#### 3.2 Ticks level"
   ]
  },
  {
   "cell_type": "code",
   "execution_count": null,
   "metadata": {},
   "outputs": [],
   "source": [
    "# set the ticks level: trades or trades and book quotes\n",
    "level = level.LEVEL_TRADES_AND_BOOK "
   ]
  },
  {
   "cell_type": "markdown",
   "metadata": {},
   "source": [
    "#### 3.3 Time period delimitation"
   ]
  },
  {
   "cell_type": "markdown",
   "metadata": {},
   "source": [
    "#### Open Hours for Euronext\n",
    "\n",
    "[Euronext Trading Hours](https://www.euronext.com/en/trade/trading-hours-holidays)\n",
    "\n",
    "|Open Hours| Trading | Close | Trading At Last |\n",
    "| -------- | --------| ------|-----------------|\n",
    "| 09:00 (CET) | 09:00 - 17:30 (CET) | 17:35 (CET) | 17:40 (CET)|\n",
    "| 07:00 (UTC) | 07:00 - 15:30 (UTC) | 15:35 (UTC) | 15:40 (UTC)|"
   ]
  },
  {
   "cell_type": "code",
   "execution_count": null,
   "metadata": {},
   "outputs": [],
   "source": [
    "# create time intervals (we are using Google date format)\n",
    "date_interval = dateinterval.DateInterval(\n",
    "    start_date = date.Date(year = 2021, month = 9, day = 13), \n",
    "    end_date = date.Date(year = 2021, month = 9, day = 13)\n",
    ")\n",
    "\n",
    "# build the market data request time interval (we are using Google time format)\n",
    "# UTC time zone\n",
    "time_interval1 = timeinterval.TimeInterval(\n",
    "    start_time = timeofday.TimeOfDay(hours = 6, minutes = 50, seconds = 0), \n",
    "    end_time = timeofday.TimeOfDay(hours = 7, minutes = 15, seconds = 0)\n",
    ")\n",
    "time_interval2 = timeinterval.TimeInterval(\n",
    "    start_time = timeofday.TimeOfDay(hours = 15, minutes = 20, seconds = 0), \n",
    "    end_time = timeofday.TimeOfDay(hours = 15, minutes = 45, seconds = 0)\n",
    ")"
   ]
  },
  {
   "cell_type": "code",
   "execution_count": null,
   "metadata": {},
   "outputs": [],
   "source": [
    "date_interval.start_date"
   ]
  },
  {
   "cell_type": "markdown",
   "metadata": {},
   "source": [
    "#### 3.4 Request creation\n",
    "The following code snippet creates *gRPC client*, process request and returns the request reply:"
   ]
  },
  {
   "cell_type": "code",
   "execution_count": null,
   "metadata": {},
   "outputs": [],
   "source": [
    "# generate constraints based on the previous time selection\n",
    "constraints = constraints.Constraints(\n",
    "    date_intervals = [date_interval],\n",
    "    time_intervals = [time_interval],\n",
    ")"
   ]
  },
  {
   "cell_type": "markdown",
   "metadata": {},
   "source": [
    "The following code snippets create the market data request and instantiate the service:"
   ]
  },
  {
   "cell_type": "code",
   "execution_count": null,
   "metadata": {},
   "outputs": [],
   "source": [
    "# generate tick raw request\n",
    "request = tick_raw.TickRawRequest(\n",
    "    identifier = identifier.Identifier(exchange = exchange, ticker = ticker),\n",
    "    constraints = constraints,\n",
    "    level = level\n",
    ")"
   ]
  },
  {
   "cell_type": "markdown",
   "metadata": {},
   "source": [
    "#### 3.5 Export raw tick data\n",
    "Tick by tick data is sent through a *stream*, the following code snippet exports tick by tick dataset in a file in the same folder as this sample:"
   ]
  },
  {
   "cell_type": "code",
   "execution_count": null,
   "metadata": {},
   "outputs": [],
   "source": [
    "import csv\n",
    "from datetime import timedelta\n",
    "\n",
    "filename = 'raw_ticks_{0}-{1}.csv'.format(ticker, exchange)\n",
    "ticks_count = 0\n",
    "\n",
    "with open(filename, mode='w') as raw_ticks_file:\n",
    "    raw_ticks_writer = csv.writer(raw_ticks_file, delimiter=',', quotechar='\"', quoting=csv.QUOTE_MINIMAL)\n",
    "\n",
    "    # write 1rst row\n",
    "    raw_ticks_writer.writerow(['Timestamp', 'Tick'])\n",
    "    \n",
    "    # open a gRPC channel\n",
    "    with open(os.environ['SSL_CERT_FILE'], 'rb') as f:\n",
    "        credentials = grpc.ssl_channel_credentials(f.read())\n",
    "\n",
    "    with grpc.secure_channel(os.environ['GRPC_APIS'], credentials) as channel:\n",
    "\n",
    "        # instantiate the tick raw service\n",
    "        service = tick_raw_service.TickRawServiceStub(channel)\n",
    "\n",
    "        # process the tick raw request\n",
    "        for items in service.TickRaw(request=request, metadata=[('authorization', token)]):\n",
    "            for item in items.raw_items:\n",
    "                time = datetime.fromtimestamp(item.time_stamp.seconds) + timedelta(microseconds = item.time_stamp.nanos/1000)\n",
    "                tick = str(item.payload, 'UTF-8')[2:]\n",
    "                raw_ticks_writer.writerow([time,tick])\n",
    "                ticks_count = ticks_count + 1\n",
    "            "
   ]
  }
 ],
 "metadata": {
  "kernelspec": {
   "display_name": "Python 3",
   "language": "python",
   "name": "python3"
  },
  "language_info": {
   "codemirror_mode": {
    "name": "ipython",
    "version": 3
   },
   "file_extension": ".py",
   "mimetype": "text/x-python",
   "name": "python",
   "nbconvert_exporter": "python",
   "pygments_lexer": "ipython3",
   "version": "3.9.5"
  }
 },
 "nbformat": 4,
 "nbformat_minor": 4
}
