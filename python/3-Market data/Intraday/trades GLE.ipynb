{
 "cells": [
  {
   "cell_type": "markdown",
   "id": "3119e231",
   "metadata": {},
   "source": [
    "# Generate trades using dedicated service - Python\n",
    "\n",
    "### Overview\n",
    "Retrieving trades over a look back period is a valuable indicator to highlight market activity. It can be correlated with a set of technical indicators to better analyze market movements and build a decision making parameter.\n",
    "\n",
    "This sample is designed to request trades and illustrate market activity over a look back period.\n",
    "\n",
    "<div class=\"alert alert-block alert-info\">\n",
    "    <b>Note:</b> To highlight individual trades among market activity. Please refer to <i>bestex-pointintime</i> and <i>bestex-interval</i> notebooks.\n",
    "</div>\n",
    "\n",
    "This sample demonstrates how to request and plot from a dedicated data service **on-demand** trades over the time.\n",
    "\n",
    "### Inputs/outputs\n",
    "Trades extraction sample requires instrument's identifier, date time intervals as per inputs and returns the occured trades information.\n",
    "\n",
    "### Services used\n",
    "This sample uses *gRPC requests* in order to retrieve trades information from the hosted service. The queried endpoint in this script are:\n",
    "* *TickTradesService*: to directly retrieve trades data from the server.\n",
    "\n",
    "### Modules required\n",
    "1. Systemathics:\n",
    "    * *systemathics.apis.services.tick.v1*\n",
    "    * *systemathics.apis.type.shared.v1*\n",
    "    * *google.type*\n",
    "2. Open source:\n",
    "    * *googleapis-common-protos*\n",
    "    * *protobuf*\n",
    "    * *grpcio*\n",
    "    * *pandas*\n",
    "    * *plotly* and *matpotlib* as per display packages\n",
    "    \n",
    "***"
   ]
  },
  {
   "cell_type": "markdown",
   "id": "cb1f6032",
   "metadata": {},
   "source": [
    "# Run Trades sample"
   ]
  },
  {
   "cell_type": "markdown",
   "id": "753379ba",
   "metadata": {},
   "source": [
    "### Step 1: Install packages and import them"
   ]
  },
  {
   "cell_type": "code",
   "execution_count": null,
   "id": "2e439131",
   "metadata": {},
   "outputs": [],
   "source": [
    "pip install googleapis-common-protos protobuf grpcio pandas matplotlib plotly systemathics.apis"
   ]
  },
  {
   "cell_type": "code",
   "execution_count": null,
   "id": "523049a6",
   "metadata": {},
   "outputs": [],
   "source": [
    "import os\n",
    "import grpc\n",
    "import pandas as pd\n",
    "from datetime import datetime\n",
    "import google.type.date_pb2 as date\n",
    "import google.type.timeofday_pb2 as timeofday\n",
    "import google.type.dayofweek_pb2 as dayofweek\n",
    "import google.protobuf.duration_pb2 as duration\n",
    "import systemathics.apis.type.shared.v1.identifier_pb2 as identifier\n",
    "import systemathics.apis.type.shared.v1.constraints_pb2 as constraints\n",
    "import systemathics.apis.type.shared.v1.date_interval_pb2 as dateinterval\n",
    "import systemathics.apis.type.shared.v1.time_interval_pb2 as timeinterval\n",
    "import systemathics.apis.services.tick.v1.tick_trades_pb2 as tick_trades\n",
    "import systemathics.apis.services.tick.v1.tick_trades_pb2_grpc as tick_trades_service"
   ]
  },
  {
   "cell_type": "markdown",
   "id": "c9fce84c",
   "metadata": {},
   "source": [
    "### Step 2: Retrieve authentication token\n",
    "The following code snippet sends authentication request and print token to console output in order to process the upcomming *gRPC queries*."
   ]
  },
  {
   "cell_type": "code",
   "execution_count": null,
   "id": "8e856185",
   "metadata": {},
   "outputs": [],
   "source": [
    "token = f\"Bearer {os.environ['AUTH0_TOKEN']}\"\n",
    "display(token)"
   ]
  },
  {
   "cell_type": "markdown",
   "id": "064adf12",
   "metadata": {},
   "source": [
    "### Step 3: Retrieve data\n",
    "To request *tick trades* service, we need to specify:\n",
    "* Instrument identifier\n",
    "* Time period selection: select start and end dates\n",
    "* Tick trades request parameters"
   ]
  },
  {
   "cell_type": "markdown",
   "id": "b9d7ac6a",
   "metadata": {},
   "source": [
    "#### 3.1 Instrument selection"
   ]
  },
  {
   "cell_type": "code",
   "execution_count": null,
   "id": "8b27b908",
   "metadata": {},
   "outputs": [],
   "source": [
    "# set instrument identifier: exchange + ticker\n",
    "ticker = 'GLE'\n",
    "exchange = 'XPAR'"
   ]
  },
  {
   "cell_type": "markdown",
   "id": "320f81b1",
   "metadata": {},
   "source": [
    "#### 3.2 Time period delimitation"
   ]
  },
  {
   "cell_type": "code",
   "execution_count": null,
   "id": "b8225d7a",
   "metadata": {},
   "outputs": [],
   "source": [
    "# create time intervals (we are using Google date format)\n",
    "date_interval = dateinterval.DateInterval(\n",
    "    start_date = date.Date(year = 2021, month = 9, day = 13), \n",
    "    end_date = date.Date(year = 2021, month = 9, day = 13)\n",
    ")\n",
    "\n",
    "# build the market data request time interval (we are using Google time format)\n",
    "# UTC time zone\n",
    "time_interval1 = timeinterval.TimeInterval(\n",
    "    start_time = timeofday.TimeOfDay(hours = 6, minutes = 50, seconds = 0), \n",
    "    end_time = timeofday.TimeOfDay(hours = 7, minutes = 15, seconds = 0)\n",
    ")\n",
    "time_interval2 = timeinterval.TimeInterval(\n",
    "    start_time = timeofday.TimeOfDay(hours = 15, minutes = 20, seconds = 0), \n",
    "    end_time = timeofday.TimeOfDay(hours = 15, minutes = 45, seconds = 0)\n",
    ")"
   ]
  },
  {
   "cell_type": "markdown",
   "id": "d988a392",
   "metadata": {},
   "source": [
    "#### 3.3 Request creation\n",
    "The following code snippet creates *gRPC client*, process request and returns the request reply:"
   ]
  },
  {
   "cell_type": "code",
   "execution_count": null,
   "id": "4c0ada16",
   "metadata": {},
   "outputs": [],
   "source": [
    "# generate constraints based on the previous time selection\n",
    "constraint = constraints.Constraints(\n",
    "    date_intervals = [date_interval],\n",
    "    time_intervals = [time_interval1,time_interval2],\n",
    ")"
   ]
  },
  {
   "cell_type": "code",
   "execution_count": null,
   "id": "1ccb9ced",
   "metadata": {},
   "outputs": [],
   "source": [
    "# generate the tick trades request\n",
    "id = identifier.Identifier(exchange = exchange, ticker = ticker)\n",
    "request = tick_trades.TickTradesRequest(\n",
    "    identifiers = [id],\n",
    "    constraints = constraint\n",
    ")"
   ]
  },
  {
   "cell_type": "code",
   "execution_count": null,
   "id": "ff11e050",
   "metadata": {},
   "outputs": [],
   "source": [
    "# open a gRPC channel\n",
    "with open(os.environ['SSL_CERT_FILE'], 'rb') as f:\n",
    "    credentials = grpc.ssl_channel_credentials(f.read())\n",
    "with grpc.secure_channel(os.environ['GRPC_APIS'], credentials) as channel:\n",
    "    \n",
    "    # instantiate the tick trades service\n",
    "    service = tick_trades_service.TickTradesServiceStub(channel)\n",
    "    \n",
    "    # process the tick trades request\n",
    "    trades = []\n",
    "    metadata = [('authorization', token)]\n",
    "    for trade in service.TickTrades(request=request, metadata=metadata):\n",
    "        if trade.trade:\n",
    "            trades.append(trade.trade)\n",
    "\n",
    "# keep only trades, delete instrument mapping (1st element retrieved)\n",
    "# mapping is not used as only one instrument identifier is requested\n",
    "del trades[0]"
   ]
  },
  {
   "cell_type": "markdown",
   "id": "d439127d",
   "metadata": {},
   "source": [
    "The following code snippet displays the total retrieved trades count:"
   ]
  },
  {
   "cell_type": "code",
   "execution_count": null,
   "id": "d8912b11",
   "metadata": {},
   "outputs": [],
   "source": [
    "print('Total trades retrieved: {0}'.format(len(trades)))"
   ]
  },
  {
   "cell_type": "markdown",
   "id": "76ca5e3a",
   "metadata": {},
   "source": [
    "### Step 4: Visualize data"
   ]
  },
  {
   "cell_type": "markdown",
   "id": "47b474ce",
   "metadata": {},
   "source": [
    "#### 4.1 Retrieve data\n",
    "In the following code snippets, the reply is reprocessed in a data frame in order to visualize the results with ease:"
   ]
  },
  {
   "cell_type": "code",
   "execution_count": null,
   "id": "6db8526b",
   "metadata": {},
   "outputs": [],
   "source": [
    "# prepare the dataframe content\n",
    "dates = [datetime.fromtimestamp(t.time_stamp.seconds) for t in trades]\n",
    "prices = [t.price for t in trades]\n",
    "sizes = [t.size for t in trades]\n",
    "ids = [t.id for t in trades]\n",
    "conditions = [t.condition for t in trades]"
   ]
  },
  {
   "cell_type": "code",
   "execution_count": null,
   "id": "a94946e8",
   "metadata": {},
   "outputs": [],
   "source": [
    "# create a pandas dataframe with: dates, trades prices and sizes\n",
    "d = {'Date': dates, 'Price': prices, 'Size': sizes, 'Ids': ids, 'Conditions': conditions}\n",
    "df = pd.DataFrame(data=d)\n",
    "df"
   ]
  },
  {
   "cell_type": "code",
   "execution_count": null,
   "id": "61d125f4-5e61-48b9-ad0e-2e894d5868f4",
   "metadata": {},
   "outputs": [],
   "source": [
    "filename = 'trades{0}-{1}.csv'.format(ticker, exchange)\n",
    "df.to_csv(filename)\n",
    "df[df['Conditions'] == '2']"
   ]
  }
 ],
 "metadata": {
  "kernelspec": {
   "display_name": "Python 3",
   "language": "python",
   "name": "python3"
  },
  "language_info": {
   "codemirror_mode": {
    "name": "ipython",
    "version": 3
   },
   "file_extension": ".py",
   "mimetype": "text/x-python",
   "name": "python",
   "nbconvert_exporter": "python",
   "pygments_lexer": "ipython3",
   "version": "3.9.5"
  }
 },
 "nbformat": 4,
 "nbformat_minor": 5
}
